{
 "cells": [
  {
   "cell_type": "markdown",
   "metadata": {},
   "source": [
    "# Accuracy Metrics\n",
    "\n",
    "Goal here is to develop three different accuracy metrics for the EEG online decoder. The three accuracy metrics are described as follows:\n",
    "\n",
    "**1. Fraction of time target is acquired:** The decoder will move in the direction of the on screen targets. Eventually the decoer will saturate and be at the same location as the on-screen target. This method will compute accuracy as the fraction of time the decoders position is equal to the target position (divided by the fraction of time the decoder is not at the center of the screen). The decoder is assumed to be inactive when it is at the center of the screen so these timesteps are omitted from the accuracy calculations\n",
    "\n",
    "**2. Fraction of time decoder is in the correct direction:** This computes the fraction of timesteps the decoder is closest to the correct target.\n",
    "\n",
    "**3. Fraction of time decoder has the correct velocity:** This computes the velocity of the decoder at every timestep. The fraction of these timesteps where the velocity is in the direction of the correct target (relative to all active timesteps) is then reported as accuracy."
   ]
  },
  {
   "cell_type": "code",
   "execution_count": 3,
   "metadata": {},
   "outputs": [],
   "source": [
    "# imports\n",
    "\n",
    "import sys\n",
    "# setting path\n",
    "sys.path.append('/home/brandon/eeg/Offline_EEGNet')\n",
    "\n",
    "\n",
    "import numpy as np\n",
    "import matplotlib.pyplot as plt\n",
    "import preprocessing as pre\n",
    "from preprocessing import load_data, parse_labels, partition_data, augment_data\n",
    "from train import train\n",
    "from torch.utils.data import TensorDataset, DataLoader\n",
    "import torch\n",
    "import pdb\n",
    "from EEGNet import EEGNet\n",
    "import argparse\n",
    "import tqdm\n",
    "from collections import defaultdict\n",
    "import data.data_util as util"
   ]
  },
  {
   "cell_type": "markdown",
   "metadata": {},
   "source": [
    "## Load in data to debug the three accuracy metrics"
   ]
  },
  {
   "cell_type": "code",
   "execution_count": 5,
   "metadata": {},
   "outputs": [],
   "source": [
    "# load in the data\n",
    "data_file_name = \"BM_4_movement_w_feedback_000\"\n",
    "fpath = \"/home/brandon/eeg/bci_raspy/data/\" + data_file_name\n",
    "eeg_data = util.load_data(fpath + \"/eeg.bin\")\n",
    "task_data = util.load_data(fpath + \"/task.bin\")"
   ]
  },
  {
   "cell_type": "code",
   "execution_count": null,
   "metadata": {},
   "outputs": [],
   "source": [
    "eeg_data.keys()"
   ]
  },
  {
   "cell_type": "code",
   "execution_count": null,
   "metadata": {},
   "outputs": [],
   "source": [
    "task_data.keys()"
   ]
  },
  {
   "cell_type": "code",
   "execution_count": null,
   "metadata": {},
   "outputs": [],
   "source": [
    "plt.figure()\n",
    "plt.plot(task_data[\"decoded_pos\"][:,0])   # (t_steps, 2)  each t_step contains (x, y) coordinate of decoder\n",
    "plt.plot(task_data[\"state_task\"])\n",
    "plt.legend([\"decoder x-position\", \"state task\"])\n",
    "task_data[\"decoded_pos\"]"
   ]
  },
  {
   "cell_type": "code",
   "execution_count": 6,
   "metadata": {},
   "outputs": [],
   "source": [
    "# partition the data into trials\n",
    "# extract trial start times\n",
    "new_state_bool = np.zeros(task_data['state_task'].size, dtype='bool')\n",
    "new_state_bool[1:] = (task_data['state_task'][1:] != task_data['state_task'][:-1])\n",
    "new_state_inds = np.nonzero(new_state_bool)[0]\n",
    "trial_labels = task_data['state_task'][new_state_inds]\n",
    "trial_start_times = task_data['time_ns'][new_state_inds] \n",
    "eeg_timing = eeg_data['time_ns']\n",
    "\n",
    "\n",
    "\n",
    "\n",
    "eeg_trials = defaultdict(lambda: [])  \n",
    "# partition trials\n",
    "for trial_ix in range(len(trial_labels)-1):\n",
    "    if int(trial_labels[trial_ix]) == 4:  # skip rest trials\n",
    "        continue \n",
    "\n",
    "    # extract eeg_data indices were trial started and ended\n",
    "    trial_start_ix = np.where(task_data[\"time_ns\"] > trial_start_times[trial_ix])[0][0] + 50 # omit first second of data\n",
    "    trial_end_ix = np.where(task_data[\"time_ns\"] < trial_start_times[trial_ix+1])[0][-1]\n",
    "    \n",
    "    # get the decoder position\n",
    "    eeg_trials[trial_labels[trial_ix]].append(task_data[\"decoded_pos\"][trial_start_ix:trial_end_ix])\n",
    "\n",
    "    # append data from 64 electrodes\n",
    "    #eeg_trials.append(eeg_data['databuffer'][trial_start_ix:trial_end_ix, :64])\n",
    "    #min_trial_len = np.minimum(eeg_trials[-1].shape[0], min_trial_len).astype(int)\n",
    "    #eeg_trial_labels.append(class_names[trial_labels[trial_ix]])"
   ]
  },
  {
   "cell_type": "markdown",
   "metadata": {},
   "source": [
    "### eeg_trials\n",
    "This is a dictionary where the keys are the trial labels (0 for left, 1 for right). The dictionary contains a list of all trials with the corresponding label (with the first second omitted). The trial is formatted as (t_steps, 2) where at each t_step the x,y-coordinate of the deocder is stored."
   ]
  },
  {
   "cell_type": "code",
   "execution_count": null,
   "metadata": {},
   "outputs": [],
   "source": [
    "new_state_inds"
   ]
  },
  {
   "cell_type": "code",
   "execution_count": 7,
   "metadata": {},
   "outputs": [
    {
     "data": {
      "text/plain": [
       "Text(0.5, 1.0, 'X-position of Decoder During right trial')"
      ]
     },
     "execution_count": 7,
     "metadata": {},
     "output_type": "execute_result"
    },
    {
     "data": {
      "image/png": "[encoded data removed]",
      "text/plain": [
       "<Figure size 432x288 with 1 Axes>"
      ]
     },
     "metadata": {
      "needs_background": "light"
     },
     "output_type": "display_data"
    },
    {
     "data": {
      "image/png": "[encoded data removed]",
      "text/plain": [
       "<Figure size 432x288 with 1 Axes>"
      ]
     },
     "metadata": {
      "needs_background": "light"
     },
     "output_type": "display_data"
    }
   ],
   "source": [
    "sample_trial_ix = 6  # random trial to visualize\n",
    "\n",
    "plt.figure()\n",
    "plt.plot(eeg_trials[0][sample_trial_ix][:,0])\n",
    "plt.title(\"X-position of Decoder During left trial\")\n",
    "\n",
    "plt.figure()\n",
    "plt.plot(eeg_trials[1][sample_trial_ix][:,0])\n",
    "plt.title(\"X-position of Decoder During right trial\")"
   ]
  },
  {
   "cell_type": "code",
   "execution_count": null,
   "metadata": {},
   "outputs": [],
   "source": [
    "tmp = np.clip(eeg_trials[0], -30, 30)\n",
    "tmp == [3, 3]"
   ]
  },
  {
   "cell_type": "code",
   "execution_count": 8,
   "metadata": {},
   "outputs": [
    {
     "name": "stdout",
     "output_type": "stream",
     "text": [
      "number of targets: 4\n",
      "targets: [0, 1, 2, 3]\n"
     ]
    }
   ],
   "source": [
    "targets = np.unique(task_data[\"state_task\"]) \n",
    "targets = list(filter(lambda x: x != 4, targets))  # remove resting state\n",
    "n_targets = len(targets)\n",
    "print(\"number of targets:\", n_targets)\n",
    "print(\"targets:\", targets)"
   ]
  },
  {
   "cell_type": "markdown",
   "metadata": {},
   "source": [
    "## correct if target was reached otherwise take endpoint as decision"
   ]
  },
  {
   "cell_type": "code",
   "execution_count": 9,
   "metadata": {},
   "outputs": [],
   "source": [
    "def count_correct_trials(decoder_positions, target, method=\"near\"):\n",
    "    '''\n",
    "    returns the number of total and correct trials\n",
    "    \n",
    "    decoder_positions is a numpy array with shape \n",
    "    (n_trials, t_steps, 2) that contians the x and \n",
    "    y positions predicted by the decoder for each \n",
    "    timestep of each trial. decoder_positions must \n",
    "    only contain trials of the same type (e.g. left \n",
    "    reach trials). \n",
    "    \n",
    "    The common label/target for these trials is given \n",
    "    by target position. \n",
    "    \n",
    "    method can be \"near\" or \"hit\". If \"near\" a trial that hits \n",
    "    the correct target or ends near the correct target will \n",
    "    be considered correct. If \"hit\" only trials that actually \n",
    "    hit the correct target are considered correct.\n",
    "    \n",
    "    NOTE: this is only implemented for a one dimensional \n",
    "    decoder using the x-position\n",
    "    \n",
    "    '''\n",
    "    n_trials = decoder_positions.shape[0]\n",
    "    t_steps = decoder_positions.shape[1]\n",
    "    n_correct = 0 \n",
    "    \n",
    "    target = target[0]  # only consider one dimensional task\n",
    "    \n",
    "    # loop over trials\n",
    "    for trial_ix in range(n_trials):\n",
    "        # loop over timesteps in current trial\n",
    "        n_correct += is_trial_correct(decoder_positions[trial_ix], target, method=method)\n",
    "    # end loop over trials\n",
    "    return n_correct, n_trials\n",
    "\n",
    "def is_trial_correct(decoder_positions, target, method=\"near\"):\n",
    "    t_steps = decoder_positions.shape[0]\n",
    "    # loop over timesteps\n",
    "    for t_step in range(t_steps):\n",
    "        # the target was hit\n",
    "        if decoder_positions[t_step, 0] == target:\n",
    "            #print(\"target was acquired\")\n",
    "            return True\n",
    "        # the wrong target was hit\n",
    "        if decoder_positions[t_step, 0] == -target:\n",
    "            #print(\"wrong target was acquired\")\n",
    "            return False    # don't consider future timesteps in this trial\n",
    "    # end loop over timesteps\n",
    "    # the target was never hit\n",
    "    # take the final position as the decision\n",
    "    if np.sign(decoder_positions[t_step, 0]) == np.sign(target) and method==\"near\":\n",
    "        # decoder position was closest to (had the same sign) as the\n",
    "        # correct target position\n",
    "        #print(\"trial ended with decoder near target\")\n",
    "        return True   # count this is a correct trial\n",
    "    return False  # target wasn't hit"
   ]
  },
  {
   "cell_type": "code",
   "execution_count": null,
   "metadata": {},
   "outputs": [],
   "source": [
    "decoder_pos[0].shape"
   ]
  },
  {
   "cell_type": "code",
   "execution_count": null,
   "metadata": {},
   "outputs": [],
   "source": [
    "decoder_thresh = 75  # value at which decoder reaches target\n",
    "\n",
    "# maps target to decoder position\n",
    "target2pos = {\n",
    "    0 : [-decoder_thresh, 0],  # left\n",
    "    1 : [decoder_thresh, 0],   # right\n",
    "    2 : [0, -decoder_thresh],  # down\n",
    "    3 : [0, decoder_thresh]    # up\n",
    "}\n",
    "\n",
    "# stores the total number of trials for each target type\n",
    "n_trials = defaultdict(lambda: -1)\n",
    "# stores the number of correct trials for each target type\n",
    "n_correct = defaultdict(lambda: -1)\n",
    "\n",
    "# holds thresholded the decoder position\n",
    "decoder_pos = defaultdict(lambda: 0)\n",
    "\n",
    "# compute per-class accuracy\n",
    "verbose = True  # prints intermediate values\n",
    "decoder_acc = defaultdict(lambda: 0)\n",
    "for target in targets:\n",
    "    decoder_pos[target] = np.clip(eeg_trials[target], -decoder_thresh, decoder_thresh)\n",
    "    n_correct[target], n_trials[target] = count_correct_trials(decoder_pos[target], target2pos[target], method=\"hit\")\n",
    "    #correct_steps = decoder_pos[target] == target2pos[target]\n",
    "    #correct_steps = np.sum(correct_steps, axis=-1)\n",
    "    #correct_steps = np.where(correct_steps==2)[0].shape[0]\n",
    "    #assert False\n",
    "    \n",
    "    \n",
    "    #correct_steps = decoder_pos == target2pos[target]\n",
    "    #correct_steps = np.sum(correct_steps, axis=-1)\n",
    "    #correct_steps = np.where(correct_steps==2)[0].shape[0]\n",
    "    \n",
    "    #n_trials = decoder_pos[target].shape[0] \n",
    "    #n_tsteps_per_trial = decoder_pos[target].shape[1]\n",
    "    #n_active_steps[target] = n_trials * n_tsteps_per_trial\n",
    "    \n",
    "    acc = n_correct[target]*100./n_trials[target]\n",
    "    decoder_acc[target] = np.maximum(0., acc)  # negative accuracy indicates unknown class\n",
    "    if verbose:\n",
    "        print(\"\\nTarget:\", target)\n",
    "        print(\"total number of steps during this target:\", n_trials[target])\n",
    "        print(\"number of correct steps:\")\n",
    "        print(\"accuracy(%):\", acc )\n",
    "    \n",
    "# decoder_acc[target_ix] = accuracy_of_decoder_for_that_target"
   ]
  },
  {
   "cell_type": "code",
   "execution_count": null,
   "metadata": {},
   "outputs": [],
   "source": [
    "# compute combined decoder accuracy\n",
    "numerator = 0\n",
    "denominator = 1e-12\n",
    "for target in targets:\n",
    "    numerator += n_correct[target]\n",
    "    denominator += n_trials[target]\n",
    "print(\"combined accuracy:\", 100.*numerator/denominator, \"%\")"
   ]
  },
  {
   "cell_type": "markdown",
   "metadata": {},
   "source": [
    "## Metric #2: Decoder in Correct Direction\n"
   ]
  },
  {
   "cell_type": "code",
   "execution_count": null,
   "metadata": {},
   "outputs": [],
   "source": [
    "# maps target to decoder position\n",
    "target2pos = {\n",
    "    0 : [-decoder_thresh, 0],  # left\n",
    "    1 : [decoder_thresh, 0],   # right\n",
    "    2 : [0, -decoder_thresh],  # down\n",
    "    3 : [0, decoder_thresh]    # up\n",
    "}\n",
    "\n",
    "# stores total number of decoded steps during each target\n",
    "n_active_steps = defaultdict(lambda: -1)\n",
    "correct_steps = defaultdict(lambda: 0)\n",
    "# threshold the decoder\n",
    "\n",
    "\n",
    "# compute per-class accuracy\n",
    "decoder_pos = defaultdict(lambda: 0)\n",
    "verbose = True  # prints intermediate values\n",
    "decoder_acc = defaultdict(lambda: 0)\n",
    "for target in targets:\n",
    "    decoder_pos[target] = np.sign(eeg_trials[target])\n",
    "    correct_steps[target] = decoder_pos[target] == np.sign(target2pos[target])  # signs are the same when it is closest\n",
    "    correct_steps[target] = np.sum(correct_steps[target], axis=-1)\n",
    "    correct_steps[target] = np.where(correct_steps[target]==2)[0].shape[0]\n",
    "    \n",
    "    # total number of decoded steps\n",
    "    n_trials = decoder_pos[target].shape[0] \n",
    "    n_tsteps_per_trial = decoder_pos[target].shape[1]\n",
    "    n_active_steps[target] = n_trials * n_tsteps_per_trial\n",
    "    \n",
    "    acc = correct_steps[target]*100./n_active_steps[target]\n",
    "    decoder_acc[target] = np.maximum(0., acc)  # negative accuracy indicates unknown class\n",
    "    if verbose:\n",
    "        print(\"\\nTarget:\", target)\n",
    "        print(\"total number of steps during this target:\", n_active_steps[target])\n",
    "        print(\"number of correct steps:\", correct_steps)\n",
    "        print(\"accuracy(%):\", acc )\n",
    "    \n",
    "# decoder_acc[target_ix] = accuracy_of_decoder_for_that_target\n",
    "\n",
    "# compute combined decoder accuracy\n",
    "numerator = 0\n",
    "denominator = 1e-12\n",
    "for target in targets:\n",
    "    numerator += correct_steps[target]\n",
    "    denominator += n_active_steps[target]\n",
    "print(\"combined accuracy:\", 100.*numerator/denominator, \"%\")"
   ]
  },
  {
   "cell_type": "markdown",
   "metadata": {},
   "source": [
    "## Metric #3: Decoder has Correct Velocity"
   ]
  },
  {
   "cell_type": "code",
   "execution_count": null,
   "metadata": {},
   "outputs": [],
   "source": [
    "# maps target to decoder position\n",
    "target2pos = {\n",
    "    0 : [-decoder_thresh, 0],  # left\n",
    "    1 : [decoder_thresh, 0],   # right\n",
    "    2 : [0, -decoder_thresh],  # down\n",
    "    3 : [0, decoder_thresh]    # up\n",
    "}\n",
    "\n",
    "# stores total number of decoded steps during each target\n",
    "n_active_steps = defaultdict(lambda: -1)\n",
    "\n",
    "# threshold the decoder\n",
    "\n",
    "\n",
    "# compute per-class accuracy\n",
    "decoder_pos = defaultdict(lambda: 0)\n",
    "verbose = True  # prints intermediate values\n",
    "decoder_acc = defaultdict(lambda: 0)\n",
    "for target in targets:\n",
    "    decoder_pos[target] = np.diff(eeg_trials[target], axis=-2) # take difference along the time axisy\n",
    "    decoder_pos[target] = np.sign(decoder_pos[target])   # signed velocity\n",
    "    correct_steps = decoder_pos[target] == np.sign(target2pos[target])  # signs are the same when moving towards target\n",
    "    correct_steps = np.sum(correct_steps, axis=-1)\n",
    "    correct_steps = np.where(correct_steps==2)[0].shape[0]\n",
    "    \n",
    "    # total number of decoded steps\n",
    "    n_trials = decoder_pos[target].shape[0] \n",
    "    n_tsteps_per_trial = decoder_pos[target].shape[1]\n",
    "    n_active_steps[target] = n_trials * n_tsteps_per_trial\n",
    "    \n",
    "    acc = correct_steps*100./n_active_steps[target]\n",
    "    decoder_acc[target] = np.maximum(0., acc)  # negative accuracy indicates unknown class\n",
    "    if verbose:\n",
    "        print(\"\\nTarget:\", target)\n",
    "        print(\"total number of steps during this target:\", n_active_steps[target])\n",
    "        print(\"number of correct steps:\", correct_steps)\n",
    "        print(\"accuracy(%):\", acc )\n",
    "    \n",
    "# decoder_acc[target_ix] = accuracy_of_decoder_for_that_target"
   ]
  },
  {
   "cell_type": "code",
   "execution_count": null,
   "metadata": {},
   "outputs": [],
   "source": []
  },
  {
   "cell_type": "code",
   "execution_count": null,
   "metadata": {},
   "outputs": [],
   "source": [
    "np.sign(0) == np.sign(1)"
   ]
  },
  {
   "cell_type": "code",
   "execution_count": null,
   "metadata": {},
   "outputs": [],
   "source": [
    "n_tsteps_per_trial"
   ]
  },
  {
   "cell_type": "code",
   "execution_count": null,
   "metadata": {},
   "outputs": [],
   "source": [
    "np.array(eeg_trials[target]).shape"
   ]
  },
  {
   "cell_type": "markdown",
   "metadata": {},
   "source": [
    "# Accuracy Metrics for 2D Decoding "
   ]
  },
  {
   "cell_type": "code",
   "execution_count": 7,
   "metadata": {},
   "outputs": [],
   "source": [
    "# load in the data\n",
    "data_file_name = \"jn1_replay_updates\"\n",
    "fpath = \"C:/Users/DNNeu/KaoLab/EEG_Decoding/Offline_EEG_Decoding/data/\" + data_file_name\n",
    "eeg_data = util.load_data(fpath + \"/eeg.bin\")\n",
    "task_data = util.load_data(fpath + \"/task.bin\")"
   ]
  },
  {
   "cell_type": "code",
   "execution_count": 8,
   "metadata": {},
   "outputs": [],
   "source": [
    "# partition the data into trials\n",
    "# extract trial start times\n",
    "new_state_bool = np.zeros(task_data['state_task'].size, dtype='bool')\n",
    "new_state_bool[1:] = (task_data['state_task'][1:] != task_data['state_task'][:-1])\n",
    "new_state_inds = np.nonzero(new_state_bool)[0]\n",
    "trial_labels = task_data['state_task'][new_state_inds]\n",
    "trial_start_times = task_data['time_ns'][new_state_inds] \n",
    "eeg_timing = eeg_data['time_ns']\n",
    "\n",
    "\n",
    "\n",
    "\n",
    "eeg_trials = defaultdict(lambda: [])  \n",
    "# partition trials\n",
    "for trial_ix in range(len(trial_labels)-1):\n",
    "    if int(trial_labels[trial_ix]) == 4:  # skip rest trials\n",
    "        continue \n",
    "\n",
    "    # extract eeg_data indices were trial started and ended\n",
    "    trial_start_ix = np.where(task_data[\"time_ns\"] > trial_start_times[trial_ix])[0][0] + 50 # omit first second of data\n",
    "    trial_end_ix = np.where(task_data[\"time_ns\"] < trial_start_times[trial_ix+1])[0][-1]\n",
    "    \n",
    "    # get the decoder position\n",
    "    eeg_trials[trial_labels[trial_ix]].append(task_data[\"decoded_pos\"][trial_start_ix:trial_end_ix])\n",
    "\n",
    "    # append data from 64 electrodes\n",
    "    #eeg_trials.append(eeg_data['databuffer'][trial_start_ix:trial_end_ix, :64])\n",
    "    #min_trial_len = np.minimum(eeg_trials[-1].shape[0], min_trial_len).astype(int)\n",
    "    #eeg_trial_labels.append(class_names[trial_labels[trial_ix]])"
   ]
  },
  {
   "cell_type": "code",
   "execution_count": 9,
   "metadata": {},
   "outputs": [
    {
     "name": "stdout",
     "output_type": "stream",
     "text": [
      "number of targets: 2\n",
      "targets: [0, 1]\n"
     ]
    }
   ],
   "source": [
    "targets = np.unique(task_data[\"state_task\"]) \n",
    "targets = list(filter(lambda x: x != 4, targets))  # remove resting state\n",
    "n_targets = len(targets)\n",
    "print(\"number of targets:\", n_targets)\n",
    "print(\"targets:\", targets)"
   ]
  },
  {
   "cell_type": "markdown",
   "metadata": {},
   "source": [
    "## Compute Weak Accuracy Metric for 2D Decoding\n",
    "\n",
    "The accuracy is computed for the 2D decoding task (left/right/up/down). A trial is considered accurate as long as the decoded cursor position ends on the correct half of the screen. "
   ]
  },
  {
   "cell_type": "code",
   "execution_count": 10,
   "metadata": {
    "scrolled": false
   },
   "outputs": [
    {
     "name": "stdout",
     "output_type": "stream",
     "text": [
      "\n",
      "Target: 0\n",
      "correct trials: 15\n",
      "trials of this type: 76\n",
      "accuracy(%): 19.736842105263158\n",
      "\n",
      "Target: 1\n",
      "correct trials: 59\n",
      "trials of this type: 78\n",
      "accuracy(%): 75.64102564102564\n",
      "\n",
      "\n",
      "Average accuracy across all trials(%): 48.05194805194805\n"
     ]
    }
   ],
   "source": [
    "# maps target label to decoder 2D (x,y) position\n",
    "target2pos = {\n",
    "    0 : [-1, 0],  # left\n",
    "    1 : [1, 0],   # right\n",
    "    2 : [0, -1],  # down\n",
    "    3 : [0, 1]    # up\n",
    "}\n",
    "\n",
    "# maps each target to a list of bools indicating if that trial is correct\n",
    "correct_trials = defaultdict(lambda: 0)  \n",
    "n_trials = defaultdict(lambda: 0)  # number of trials for each condition\n",
    "\n",
    "# list of decoder positions at the end of all trials\n",
    "# e.g. final_decoder_pos[0] is a list of (x,y)-coordinates \n",
    "# of the final decoder position at the end of each trial \n",
    "# associated with left (target=0) reaches\n",
    "final_decoder_pos = defaultdict(lambda: 0)\n",
    "decoder_acc = defaultdict(lambda: 0)\n",
    "for target in targets:\n",
    "    # eeg_trials[target] is a list with length equal to the number of target trials.\n",
    "    # Each array is a timeseries of 2D position of the decoder for that trial\n",
    "    final_decoder_pos[target] = np.array(np.sign(eeg_trials[target]))[:,-1,:]  # final x,y-position of decoder on each trial (n_trials, 2) \n",
    "    if target < 2: # L/R\n",
    "        correct_trials[target] = final_decoder_pos[target][:,0] == target2pos[target][0]  # signs are the same when it is closest\n",
    "    else: # U/D\n",
    "        correct_trials[target] = final_decoder_pos[target][:,1] == target2pos[target][1]  # signs are the same when it is closest\n",
    "    correct_trials[target] = np.sum(correct_trials[target])\n",
    "    #correct_steps = np.where(correct_steps==2)[0].shape[0]\n",
    "    \n",
    "    # total number of this type of trial\n",
    "    n_trials[target] = final_decoder_pos[target].shape[0] \n",
    "    \n",
    "    # accuracy on this trial type\n",
    "    acc = correct_trials[target]*100./n_trials[target]\n",
    "    decoder_acc[target] = np.maximum(0., acc)  # negative accuracy indicates unknown class\n",
    "    if True:\n",
    "        print(\"\\nTarget:\", target)\n",
    "        print(\"correct trials:\", correct_trials[target])\n",
    "        print(\"trials of this type:\", n_trials[target])\n",
    "        print(\"accuracy(%):\", acc )\n",
    "\n",
    "total_correct_trials = 0\n",
    "total_trials = 0\n",
    "for target in targets:\n",
    "    total_correct_trials += correct_trials[target]\n",
    "    total_trials += n_trials[target]\n",
    "acc = total_correct_trials * 100. / total_trials\n",
    "print(\"\\n\\nAverage accuracy across all trials(%):\", acc)\n",
    "    \n",
    "# decoder_acc[target_ix] = accuracy_of_decoder_for_that_target"
   ]
  },
  {
   "cell_type": "code",
   "execution_count": null,
   "metadata": {},
   "outputs": [],
   "source": []
  }
 ],
 "metadata": {
  "kernelspec": {
   "display_name": "Python 3",
   "language": "python",
   "name": "python3"
  },
  "language_info": {
   "codemirror_mode": {
    "name": "ipython",
    "version": 3
   },
   "file_extension": ".py",
   "mimetype": "text/x-python",
   "name": "python",
   "nbconvert_exporter": "python",
   "pygments_lexer": "ipython3",
   "version": "3.8.10"
  }
 },
 "nbformat": 4,
 "nbformat_minor": 5
}
