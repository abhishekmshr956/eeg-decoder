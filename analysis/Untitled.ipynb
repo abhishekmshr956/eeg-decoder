{
 "cells": [
  {
   "cell_type": "code",
   "execution_count": 1,
   "id": "2c4b723a",
   "metadata": {},
   "outputs": [],
   "source": [
    "import analysis"
   ]
  },
  {
   "cell_type": "code",
   "execution_count": 7,
   "id": "51a0b28a",
   "metadata": {},
   "outputs": [
    {
     "name": "stdout",
     "output_type": "stream",
     "text": [
      "target acquired: 0.07230969501611703\n",
      "nearest: 0.6373357302256385\n",
      "velocity: 0.3273107408100855\n"
     ]
    }
   ],
   "source": [
    "data = analysis.experiment(\"BM_movement_w_feedback_0\")\n",
    "print(\"target acquired:\", data.get_accuracy(accuracy_type=\"target\"))\n",
    "print(\"nearest:\", data.get_accuracy(accuracy_type=\"nearest\"))\n",
    "print(\"velocity:\", data.get_accuracy(accuracy_type=\"velocity\"))"
   ]
  },
  {
   "cell_type": "code",
   "execution_count": 8,
   "id": "0d24888a",
   "metadata": {},
   "outputs": [
    {
     "name": "stdout",
     "output_type": "stream",
     "text": [
      "target acquired: 0.13300800800800802\n",
      "nearest: 0.7870370370370371\n",
      "velocity: 0.4943625598387503\n"
     ]
    }
   ],
   "source": [
    "data = analysis.experiment(\"BM_movement_w_feedback_1\")\n",
    "print(\"target acquired:\", data.get_accuracy(accuracy_type=\"target\"))\n",
    "print(\"nearest:\", data.get_accuracy(accuracy_type=\"nearest\"))\n",
    "print(\"velocity:\", data.get_accuracy(accuracy_type=\"velocity\"))"
   ]
  },
  {
   "cell_type": "code",
   "execution_count": 7,
   "id": "225ae58c",
   "metadata": {},
   "outputs": [],
   "source": [
    "data = analysis.experiment(\"BM_movement_w_feedback_0\")"
   ]
  },
  {
   "cell_type": "code",
   "execution_count": 8,
   "id": "dc047445",
   "metadata": {},
   "outputs": [
    {
     "data": {
      "text/plain": [
       "0.6373357302256385"
      ]
     },
     "execution_count": 8,
     "metadata": {},
     "output_type": "execute_result"
    }
   ],
   "source": [
    "data.get_accuracy(accuracy_type=\"nearest\")"
   ]
  },
  {
   "cell_type": "code",
   "execution_count": 10,
   "id": "9015f681",
   "metadata": {},
   "outputs": [],
   "source": [
    "data = analysis.experiment(\"BM_MI_w_feedback_0\")"
   ]
  },
  {
   "cell_type": "code",
   "execution_count": 11,
   "id": "af6c9e85",
   "metadata": {},
   "outputs": [
    {
     "data": {
      "text/plain": [
       "0.7213831478537361"
      ]
     },
     "execution_count": 11,
     "metadata": {},
     "output_type": "execute_result"
    }
   ],
   "source": [
    "data.get_accuracy(accuracy_type=\"nearest\")"
   ]
  },
  {
   "cell_type": "code",
   "execution_count": 9,
   "id": "93d53a77",
   "metadata": {},
   "outputs": [
    {
     "name": "stdout",
     "output_type": "stream",
     "text": [
      "target acquired: 0.014873639873639873\n",
      "nearest: 0.5498859248859249\n",
      "velocity: 0.23968548458344377\n"
     ]
    }
   ],
   "source": [
    "data = analysis.experiment(\"JN_movement_w_feedback_0_replay\")\n",
    "print(\"target acquired:\", data.get_accuracy(accuracy_type=\"target\"))\n",
    "print(\"nearest:\", data.get_accuracy(accuracy_type=\"nearest\"))\n",
    "print(\"velocity:\", data.get_accuracy(accuracy_type=\"velocity\"))"
   ]
  },
  {
   "cell_type": "code",
   "execution_count": 3,
   "id": "35d2bdd6",
   "metadata": {},
   "outputs": [
    {
     "data": {
      "text/plain": [
       "0.532072657072657"
      ]
     },
     "execution_count": 3,
     "metadata": {},
     "output_type": "execute_result"
    }
   ],
   "source": [
    "data.get_accuracy(accuracy_type=\"nearest\")"
   ]
  },
  {
   "cell_type": "code",
   "execution_count": 5,
   "id": "c3342408",
   "metadata": {},
   "outputs": [
    {
     "name": "stdout",
     "output_type": "stream",
     "text": [
      "target acquired: 0.05931905931905932\n",
      "nearest: 0.5249210249210249\n",
      "velocity: 0.2855817651736019\n"
     ]
    }
   ],
   "source": [
    "data = analysis.experiment(\"JN_movement_w_feedback_1\")\n",
    "print(\"target acquired:\", data.get_accuracy(accuracy_type=\"target\"))\n",
    "print(\"nearest:\", data.get_accuracy(accuracy_type=\"nearest\"))\n",
    "print(\"velocity:\", data.get_accuracy(accuracy_type=\"velocity\"))\n"
   ]
  },
  {
   "cell_type": "code",
   "execution_count": null,
   "id": "fc460c4d",
   "metadata": {},
   "outputs": [],
   "source": []
  }
 ],
 "metadata": {
  "kernelspec": {
   "display_name": "Python 3",
   "language": "python",
   "name": "python3"
  },
  "language_info": {
   "codemirror_mode": {
    "name": "ipython",
    "version": 3
   },
   "file_extension": ".py",
   "mimetype": "text/x-python",
   "name": "python",
   "nbconvert_exporter": "python",
   "pygments_lexer": "ipython3",
   "version": "3.6.13"
  }
 },
 "nbformat": 4,
 "nbformat_minor": 5
}
